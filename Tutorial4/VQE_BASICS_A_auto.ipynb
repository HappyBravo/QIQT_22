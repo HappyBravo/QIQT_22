{
 "cells": [
  {
   "cell_type": "code",
   "execution_count": null,
   "id": "8b4d1099-aca1-42fe-993a-1d2b58a8017a",
   "metadata": {},
   "outputs": [],
   "source": [
    "import qiskit as qt\n",
    "import numpy as np\n",
    "from qiskit_nature.drivers.second_quantization import PySCFDriver\n",
    "from qiskit import Aer\n",
    "from qiskit.opflow import PauliExpectation, CircuitSampler, StateFn, AerPauliExpectation, CircuitStateFn, CircuitOp, MatrixExpectation\n",
    "from qiskit_nature.circuit.library import HartreeFock\n",
    "from qiskit_nature.problems.second_quantization.electronic import ElectronicStructureProblem\n",
    "from qiskit_nature.mappers.second_quantization import JordanWignerMapper\n",
    "from qiskit_nature.converters.second_quantization import QubitConverter\n",
    "import matplotlib.pyplot as plt\n",
    "\n",
    "\n",
    "def expectation(operator, state):\n",
    "    backend_i = Aer.get_backend('statevector_simulator')\n",
    "    psi = CircuitStateFn(state)\n",
    "    measurable_expression = StateFn(operator, is_measurement=True).compose(psi)\n",
    "    expectation_i = PauliExpectation().convert(measurable_expression)\n",
    "    sampler = CircuitSampler(backend_i).convert(expectation_i)\n",
    "    electronic_energy = np.real(sampler.eval())\n",
    "    return electronic_energy\n",
    "\n",
    "z_coord = np.linspace(0.2,3.5,20)\n",
    "energy = list()\n",
    "for kk in z_coord:\n",
    "  coord = 'H 0.0 0.0 0.0; H 0.0 0.0 '+str(kk)\n",
    "  driver = PySCFDriver(atom=coord, charge=0, spin=0, basis='sto3g')\n",
    "  es_problem = ElectronicStructureProblem(driver)\n",
    "\n",
    "  # obtaining qubit Hamiltonian\n",
    "  mapper = JordanWignerMapper()\n",
    "  converter = QubitConverter(mapper=mapper, two_qubit_reduction=False)\n",
    "  second_q_op = es_problem.second_q_ops()\n",
    "  qubit_op = converter.convert(second_q_op['ElectronicEnergy'])\n",
    "\n",
    "  # obtaining some properties\n",
    "  # print(es_problem.grouped_property_transformed)\n",
    "\n",
    "  es_particle_number = es_problem.grouped_property_transformed.get_property('ParticleNumber')\n",
    "  num_particles = (es_particle_number.num_alpha, es_particle_number.num_beta)\n",
    "  num_spin_orbitals = es_particle_number.num_spin_orbitals\n",
    "  es_energy = es_problem.grouped_property_transformed.get_property('ElectronicEnergy')\n",
    "  nuclear_repulsion_energy = es_energy.nuclear_repulsion_energy\n",
    "#  print('Number Of Particles: ', num_particles)\n",
    "#  print('Number of Spin Orbitals: ', num_spin_orbitals)\n",
    "#  print('Nuclear Repulsion Energy: ', nuclear_repulsion_energy)\n",
    "\n",
    "  # generating Hartree Fock state\n",
    "  init_state = HartreeFock(num_spin_orbitals, num_particles, converter)\n",
    "\n",
    "  electronic_energy = expectation(qubit_op, init_state)\n",
    "  total_energy = electronic_energy+nuclear_repulsion_energy\n",
    "  energy.append(total_energy)\n",
    "\n",
    "print(energy)\n",
    "plt.plot(z_coord, energy)\n",
    "plt.show()"
   ]
  },
  {
   "cell_type": "code",
   "execution_count": null,
   "id": "3de89e41-a386-438e-bc68-0c6c83bda3c3",
   "metadata": {},
   "outputs": [],
   "source": []
  }
 ],
 "metadata": {
  "kernelspec": {
   "display_name": "Python 3 (ipykernel)",
   "language": "python",
   "name": "python3"
  },
  "language_info": {
   "codemirror_mode": {
    "name": "ipython",
    "version": 3
   },
   "file_extension": ".py",
   "mimetype": "text/x-python",
   "name": "python",
   "nbconvert_exporter": "python",
   "pygments_lexer": "ipython3",
   "version": "3.8.13"
  },
  "widgets": {
   "application/vnd.jupyter.widget-state+json": {
    "state": {
     "00801c37d97e4ca0a0876aa8acad641b": {
      "model_module": "@jupyter-widgets/base",
      "model_module_version": "1.2.0",
      "model_name": "LayoutModel",
      "state": {
       "width": "190px"
      }
     },
     "00e11b5edf5a406db44df24d99c7e55f": {
      "model_module": "@jupyter-widgets/base",
      "model_module_version": "1.2.0",
      "model_name": "LayoutModel",
      "state": {
       "grid_template_areas": "\n                                       \". . . . right \"\n                                        ",
       "grid_template_columns": "20% 20% 20% 20% 20%",
       "width": "100%"
      }
     },
     "052d3049fead4d29bad7ef58b333a83f": {
      "model_module": "@jupyter-widgets/controls",
      "model_module_version": "1.5.0",
      "model_name": "ButtonModel",
      "state": {
       "button_style": "primary",
       "description": "Clear",
       "layout": "IPY_MODEL_07fa8d87ec814424acf0978c21f27884",
       "style": "IPY_MODEL_29f6e986915a4800b1eed51f68bea4fa"
      }
     },
     "07fa8d87ec814424acf0978c21f27884": {
      "model_module": "@jupyter-widgets/base",
      "model_module_version": "1.2.0",
      "model_name": "LayoutModel",
      "state": {
       "grid_area": "right",
       "padding": "0px 0px 0px 0px",
       "width": "70px"
      }
     },
     "088406f2000a4e879af2ead1e2f667e3": {
      "model_module": "@jupyter-widgets/controls",
      "model_module_version": "1.5.0",
      "model_name": "DescriptionStyleModel",
      "state": {
       "description_width": ""
      }
     },
     "097a5952c40d46b6adf1d38664205303": {
      "model_module": "@jupyter-widgets/controls",
      "model_module_version": "1.5.0",
      "model_name": "HTMLModel",
      "state": {
       "layout": "IPY_MODEL_10638f7a12ed4cd19b53d7d7a6e948ae",
       "style": "IPY_MODEL_bc3eeefffe9f4b1494293d0f0870bda6",
       "value": "<h5>Backend</h5>"
      }
     },
     "10638f7a12ed4cd19b53d7d7a6e948ae": {
      "model_module": "@jupyter-widgets/base",
      "model_module_version": "1.2.0",
      "model_name": "LayoutModel",
      "state": {
       "width": "145px"
      }
     },
     "20d46869a619496f9bbed4848228498e": {
      "model_module": "@jupyter-widgets/base",
      "model_module_version": "1.2.0",
      "model_name": "LayoutModel",
      "state": {
       "margin": "0px 0px 10px 0px"
      }
     },
     "29f6e986915a4800b1eed51f68bea4fa": {
      "model_module": "@jupyter-widgets/controls",
      "model_module_version": "1.5.0",
      "model_name": "ButtonStyleModel",
      "state": {}
     },
     "43dbc26275ba45c68d2117bf85a39c30": {
      "model_module": "@jupyter-widgets/controls",
      "model_module_version": "1.5.0",
      "model_name": "HTMLModel",
      "state": {
       "layout": "IPY_MODEL_8888cd7496064996ac4b627e82c0c2a8",
       "style": "IPY_MODEL_63638872a7dc40debc24544762a67326",
       "value": "<h5>Queue</h5>"
      }
     },
     "4d738b29214b418d95216a0b7ea18d7b": {
      "model_module": "@jupyter-widgets/controls",
      "model_module_version": "1.5.0",
      "model_name": "DescriptionStyleModel",
      "state": {
       "description_width": ""
      }
     },
     "5d8be0dd41174dbc899a4c61484d7df9": {
      "model_module": "@jupyter-widgets/controls",
      "model_module_version": "1.5.0",
      "model_name": "HTMLModel",
      "state": {
       "layout": "IPY_MODEL_db0fcc5010a54cbb9a6eaaea98d3c73f",
       "style": "IPY_MODEL_088406f2000a4e879af2ead1e2f667e3",
       "value": "<h5>Status</h5>"
      }
     },
     "63638872a7dc40debc24544762a67326": {
      "model_module": "@jupyter-widgets/controls",
      "model_module_version": "1.5.0",
      "model_name": "DescriptionStyleModel",
      "state": {
       "description_width": ""
      }
     },
     "79e6bad354014b13808a0cede4c9bcb6": {
      "model_module": "@jupyter-widgets/controls",
      "model_module_version": "1.5.0",
      "model_name": "HTMLModel",
      "state": {
       "layout": "IPY_MODEL_00801c37d97e4ca0a0876aa8acad641b",
       "style": "IPY_MODEL_bf31cb888adf4962bfb1e6f8501efb80",
       "value": "<h5>Job ID</h5>"
      }
     },
     "8888cd7496064996ac4b627e82c0c2a8": {
      "model_module": "@jupyter-widgets/base",
      "model_module_version": "1.2.0",
      "model_name": "LayoutModel",
      "state": {
       "width": "70px"
      }
     },
     "8d1fa1e5a4c142b6bd2312e520568bad": {
      "model_module": "@jupyter-widgets/controls",
      "model_module_version": "1.5.0",
      "model_name": "HTMLModel",
      "state": {
       "layout": "IPY_MODEL_20d46869a619496f9bbed4848228498e",
       "style": "IPY_MODEL_4d738b29214b418d95216a0b7ea18d7b",
       "value": "<p style='font-family: IBM Plex Sans, Arial, Helvetica, sans-serif; font-size: 20px; font-weight: medium;'>Circuit Properties</p>"
      }
     },
     "bc3eeefffe9f4b1494293d0f0870bda6": {
      "model_module": "@jupyter-widgets/controls",
      "model_module_version": "1.5.0",
      "model_name": "DescriptionStyleModel",
      "state": {
       "description_width": ""
      }
     },
     "bf31cb888adf4962bfb1e6f8501efb80": {
      "model_module": "@jupyter-widgets/controls",
      "model_module_version": "1.5.0",
      "model_name": "DescriptionStyleModel",
      "state": {
       "description_width": ""
      }
     },
     "c6db8b7b66e446c1b6efa56eb636c813": {
      "model_module": "@jupyter-widgets/base",
      "model_module_version": "1.2.0",
      "model_name": "LayoutModel",
      "state": {
       "margin": "0px 0px 0px 37px",
       "width": "600px"
      }
     },
     "cc528cf04c884fdc89f07db2488388e6": {
      "model_module": "@jupyter-widgets/controls",
      "model_module_version": "1.5.0",
      "model_name": "HBoxModel",
      "state": {
       "children": [
        "IPY_MODEL_79e6bad354014b13808a0cede4c9bcb6",
        "IPY_MODEL_097a5952c40d46b6adf1d38664205303",
        "IPY_MODEL_5d8be0dd41174dbc899a4c61484d7df9",
        "IPY_MODEL_43dbc26275ba45c68d2117bf85a39c30",
        "IPY_MODEL_ffecfa2bac494c58925a95ca454301ef"
       ],
       "layout": "IPY_MODEL_c6db8b7b66e446c1b6efa56eb636c813"
      }
     },
     "d0fbc9d4268746d4a684c5973c236a96": {
      "model_module": "@jupyter-widgets/controls",
      "model_module_version": "1.5.0",
      "model_name": "DescriptionStyleModel",
      "state": {
       "description_width": ""
      }
     },
     "db0fcc5010a54cbb9a6eaaea98d3c73f": {
      "model_module": "@jupyter-widgets/base",
      "model_module_version": "1.2.0",
      "model_name": "LayoutModel",
      "state": {
       "width": "95px"
      }
     },
     "dc64ff120f9c41e6bfb4777d31b25eef": {
      "model_module": "@jupyter-widgets/base",
      "model_module_version": "1.2.0",
      "model_name": "LayoutModel",
      "state": {}
     },
     "fc089da061dd4cd9b513cde546c7fcb8": {
      "model_module": "@jupyter-widgets/controls",
      "model_module_version": "1.5.0",
      "model_name": "GridBoxModel",
      "state": {
       "children": [
        "IPY_MODEL_052d3049fead4d29bad7ef58b333a83f"
       ],
       "layout": "IPY_MODEL_00e11b5edf5a406db44df24d99c7e55f"
      }
     },
     "ffecfa2bac494c58925a95ca454301ef": {
      "model_module": "@jupyter-widgets/controls",
      "model_module_version": "1.5.0",
      "model_name": "HTMLModel",
      "state": {
       "layout": "IPY_MODEL_dc64ff120f9c41e6bfb4777d31b25eef",
       "style": "IPY_MODEL_d0fbc9d4268746d4a684c5973c236a96",
       "value": "<h5>Message</h5>"
      }
     }
    },
    "version_major": 2,
    "version_minor": 0
   }
  }
 },
 "nbformat": 4,
 "nbformat_minor": 5
}
