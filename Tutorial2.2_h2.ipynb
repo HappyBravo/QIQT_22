{
 "cells": [
  {
   "cell_type": "code",
   "execution_count": 1,
   "id": "880253ed-d076-4fec-b1d0-7c84bf073c2a",
   "metadata": {},
   "outputs": [
    {
     "name": "stderr",
     "output_type": "stream",
     "text": [
      "<frozen importlib._bootstrap>:219: RuntimeWarning: scipy._lib.messagestream.MessageStream size changed, may indicate binary incompatibility. Expected 56 from C header, got 64 from PyObject\n"
     ]
    }
   ],
   "source": [
    "import numpy as np\n",
    "\n",
    "# Importing standard Qiskit libraries\n",
    "from qiskit import QuantumCircuit, transpile, Aer, IBMQ\n",
    "from qiskit.tools.jupyter import *\n",
    "from qiskit.visualization import *\n",
    "from ibm_quantum_widgets import *\n",
    "from qiskit.providers.aer import QasmSimulator\n",
    "\n",
    "# Loading your IBM Quantum account(s)\n",
    "provider = IBMQ.load_account()"
   ]
  },
  {
   "cell_type": "code",
   "execution_count": 2,
   "id": "891efeb1-b25f-41ef-9f45-43b3822ccd49",
   "metadata": {},
   "outputs": [
    {
     "name": "stderr",
     "output_type": "stream",
     "text": [
      "/tmp/ipykernel_256/2541035671.py:9: NatureDeprecationWarning: The qiskit_nature.algorithms.excited_state_solvers package is deprecated as of version 0.5.0 and will be removed no sooner than 3 months after the release. Instead use the qiskit_nature.second_q.algorithms.excited_state_solvers package.\n",
      "  from qiskit_nature.algorithms.ground_state_solvers.minimum_eigensolver_factories import NumPyMinimumEigensolverFactory\n",
      "/tmp/ipykernel_256/2541035671.py:9: NatureDeprecationWarning: The qiskit_nature.algorithms.pes_sampler package is deprecated as of version 0.5.0 and will be removed no sooner than 3 months after the release . Please refer to 'https://github.com/Qiskit/qiskit-nature/issues/750' for additional information regarding 'extrapolators'.\n",
      "  from qiskit_nature.algorithms.ground_state_solvers.minimum_eigensolver_factories import NumPyMinimumEigensolverFactory\n"
     ]
    }
   ],
   "source": [
    "from qiskit_nature.drivers.second_quantization import PySCFDriver\n",
    "from qiskit_nature.problems.second_quantization.electronic import ElectronicStructureProblem\n",
    "\n",
    "from qiskit_nature.converters.second_quantization import QubitConverter\n",
    "from qiskit_nature.mappers.second_quantization import JordanWignerMapper\n",
    "from qiskit_nature.circuit.library import HartreeFock, UCC\n",
    "from qiskit.algorithms.optimizers import COBYLA, CG, SLSQP, L_BFGS_B\n",
    "from qiskit.algorithms import VQE\n",
    "from qiskit_nature.algorithms.ground_state_solvers.minimum_eigensolver_factories import NumPyMinimumEigensolverFactory\n",
    "from qiskit import Aer\n",
    "import numpy as np \n",
    "from qiskit_nature.algorithms.ground_state_solvers import GroundStateEigensolver\n",
    "from qiskit.circuit import Parameter, QuantumCircuit, QuantumRegister\n",
    "\n",
    "# import logging\n",
    "# logging.basicConfig(filename=\"H2_1.0.log\", level=logging.INFO)\n",
    "# logger=logging.getLogger()\n",
    "# logger.setLevel(logging.DEBUG)"
   ]
  },
  {
   "cell_type": "markdown",
   "id": "f3120add-24a0-4d8f-8ff9-6e139092842d",
   "metadata": {},
   "source": [
    "# WORK THIS IN AN OFFLINE MACHINE BECAUSE ONLINE (JUPYTER) NOTEBOOK IS SLOW"
   ]
  },
  {
   "cell_type": "code",
   "execution_count": null,
   "id": "b1acd4a5-3797-459d-ba40-7e1fff11c93d",
   "metadata": {},
   "outputs": [],
   "source": [
    "coord = 'H 0.0 0.0 0.0; H 0.0 0.0 0.735'\n",
    "driver = PySCFDriver(atom=coord, charge=0, spin=0, basis='sto3g')\n",
    "es_problem = ElectronicStructureProblem(driver)\n",
    "\n",
    "# obtaining qubit Hamiltonian\n",
    "mapper = JordanWignerMapper()\n",
    "converter = QubitConverter(mapper=mapper, two_qubit_reduction=False)\n",
    "second_q_op = es_problem.second_q_ops()\n",
    "print(second_q_op['ElectronicEnergy'])\n",
    "qubit_op = converter.convert(second_q_op['ElectronicEnergy'])\n",
    "print(qubit_op)\n",
    "\n",
    "es_particle_number = es_problem.grouped_property_transformed.get_property('ParticleNumber')\n",
    "num_particles = (es_particle_number.num_alpha, es_particle_number.num_beta)\n",
    "num_spin_orbitals = es_particle_number.num_spin_orbitals\n",
    "es_energy = es_problem.grouped_property_transformed.get_property('ElectronicEnergy')\n",
    "#print(es_energy.electronic_energy)\n",
    "nuclear_repulsion_energy = es_energy.nuclear_repulsion_energy\n",
    "shift = nuclear_repulsion_energy\n",
    "print('Number Of Particles: ',num_particles)\n",
    "print('Number of Spin Orbitals: ', num_spin_orbitals)\n",
    "print('Nuclear Repulsion Energy: ', nuclear_repulsion_energy)\n",
    "\n",
    "\n",
    "# initialization of state\n",
    "init_state = HartreeFock(num_spin_orbitals, num_particles, converter)\n",
    "\n",
    "#optimizer = L_BFGS_B(maxfun=200000,maxiter=10000)\n",
    "backend = Aer.get_backend('statevector_simulator')\n",
    "\n",
    "#Create dummy parametrized circuit for HF calculation\n",
    "theta = Parameter('a')\n",
    "n = qubit_op.num_qubits\n",
    "qc = QuantumCircuit(qubit_op.num_qubits)\n",
    "qc.rz(theta*0,0)\n",
    "ansatz = qc\n",
    "ansatz.compose(init_state, front=True, inplace=True)\n",
    "\n",
    "#Pass it through VQE\n",
    "algorithm = VQE(ansatz,quantum_instance=backend)\n",
    "result = algorithm.compute_minimum_eigenvalue(qubit_op).eigenvalue\n",
    "print('HF Energy is',np.real(result)+shift)\n",
    "\n",
    "# Variational ansatz formation\n",
    "var_form = UCC(num_particles=num_particles,num_spin_orbitals=num_spin_orbitals, excitations='sd', initial_state=init_state, qubit_converter=converter)\n",
    "excitation_list = var_form._get_excitation_list()\n",
    "print('no of parameters',var_form.num_parameters)\n",
    "print('Excitation list is',excitation_list)\n",
    "circuit = var_form.decompose() #.decompose().decompose()\n",
    "print(circuit)\n",
    "\n",
    "\n",
    "backend = Aer.get_backend('statevector_simulator')\n",
    "\n",
    "optimizer = COBYLA(maxiter=10000)\n",
    "\n",
    "counts = list()\n",
    "values = list()\n",
    "def store_intermediate_result(eval_count, parameters, mean, std):\n",
    "    counts.append(eval_count)\n",
    "    values.append(mean)\n",
    "\n",
    "#VQE optimization\n",
    "vqe1 = VQE(var_form, optimizer=optimizer, callback = store_intermediate_result, quantum_instance=backend)\n",
    "vqe_result = vqe1.compute_minimum_eigenvalue(qubit_op)\n",
    "E1 = np.real(vqe_result.eigenvalue)+shift\n",
    "print('VQE Optimized UCCSD Energy is',E1)\n",
    "\n",
    "# NumPyMinimumEigensolver (FCI Energy)\n",
    "solver = NumPyMinimumEigensolverFactory()\n",
    "calc = GroundStateEigensolver(converter, solver)\n",
    "numpy_result = calc.solve(es_problem)\n",
    "exact_energy = np.real(numpy_result.eigenenergies[0]) + shift\n",
    "print('EXACT ENERGY: ', exact_energy)\n",
    "\n",
    "# plot the convergence pattern\n",
    "import matplotlib.pyplot as plt\n",
    "\n",
    "plt.plot(counts,values,c='r',linewidth=2,label='COBYLA')\n",
    "plt.legend()\n",
    "plt.grid()\n",
    "#plt.show()\n",
    "\n",
    "#plt.savefig('H2_Con.png',dpi=600)\n",
    "plt.show()"
   ]
  },
  {
   "cell_type": "code",
   "execution_count": 10,
   "id": "f64c7451-004a-42dc-9f91-90e96fa0bc01",
   "metadata": {},
   "outputs": [],
   "source": [
    "import matplotlib.pyplot as plt\n",
    "\n",
    "def store_intermediate_result(eval_count, parameters, mean, std):\n",
    "    counts.append(eval_count)\n",
    "    values.append(mean)"
   ]
  },
  {
   "cell_type": "code",
   "execution_count": null,
   "id": "6ddaae5d-bd2d-4ca5-b8ff-b1a16858e715",
   "metadata": {},
   "outputs": [
    {
     "name": "stdout",
     "output_type": "stream",
     "text": [
      "Finding for H 0.0 0.0 0.0; H 0.0 0.0 0.1\n",
      "Finding for H 0.0 0.0 0.0; H 0.0 0.0 0.42222222222222217\n",
      "Finding for H 0.0 0.0 0.0; H 0.0 0.0 0.7444444444444444\n",
      "Finding for H 0.0 0.0 0.0; H 0.0 0.0 1.0666666666666667\n",
      "Finding for H 0.0 0.0 0.0; H 0.0 0.0 1.3888888888888888\n",
      "Finding for H 0.0 0.0 0.0; H 0.0 0.0 1.711111111111111\n",
      "Finding for H 0.0 0.0 0.0; H 0.0 0.0 2.033333333333333\n",
      "Finding for H 0.0 0.0 0.0; H 0.0 0.0 2.3555555555555556\n",
      "Finding for H 0.0 0.0 0.0; H 0.0 0.0 2.6777777777777776\n",
      "Finding for H 0.0 0.0 0.0; H 0.0 0.0 3.0\n"
     ]
    },
    {
     "data": {
      "text/plain": [
       "[<matplotlib.lines.Line2D at 0x7f5b88ac6a00>]"
      ]
     },
     "execution_count": 11,
     "metadata": {},
     "output_type": "execute_result"
    },
    {
     "data": {
      "image/png": "[encoded data removed]",
      "text/plain": [
       "<Figure size 432x288 with 1 Axes>"
      ]
     },
     "metadata": {
      "needs_background": "light"
     },
     "output_type": "display_data"
    }
   ],
   "source": [
    "h = np.linspace(0.1, 3, 10)\n",
    "energy = []\n",
    "\n",
    "for i in h:\n",
    "    coord = f'H 0.0 0.0 0.0; H 0.0 0.0 {i}'\n",
    "    print(f\"Finding for {coord}\")\n",
    "    driver = PySCFDriver(atom=coord, charge=0, spin=0, basis='sto3g')\n",
    "    es_problem = ElectronicStructureProblem(driver)\n",
    "\n",
    "    # obtaining qubit Hamiltonian\n",
    "    mapper = JordanWignerMapper()\n",
    "    converter = QubitConverter(mapper=mapper, two_qubit_reduction=False)\n",
    "    second_q_op = es_problem.second_q_ops()\n",
    "    # print(second_q_op['ElectronicEnergy'])\n",
    "    qubit_op = converter.convert(second_q_op['ElectronicEnergy'])\n",
    "    # print(qubit_op)\n",
    "\n",
    "    es_particle_number = es_problem.grouped_property_transformed.get_property('ParticleNumber')\n",
    "    num_particles = (es_particle_number.num_alpha, es_particle_number.num_beta)\n",
    "    num_spin_orbitals = es_particle_number.num_spin_orbitals\n",
    "    es_energy = es_problem.grouped_property_transformed.get_property('ElectronicEnergy')\n",
    "    #print(es_energy.electronic_energy)\n",
    "    nuclear_repulsion_energy = es_energy.nuclear_repulsion_energy\n",
    "    shift = nuclear_repulsion_energy\n",
    "    # print('Number Of Particles: ',num_particles)\n",
    "    # print('Number of Spin Orbitals: ', num_spin_orbitals)\n",
    "    # print('Nuclear Repulsion Energy: ', nuclear_repulsion_energy)\n",
    "\n",
    "\n",
    "    # initialization of state\n",
    "    init_state = HartreeFock(num_spin_orbitals, num_particles, converter)\n",
    "\n",
    "    #optimizer = L_BFGS_B(maxfun=200000,maxiter=10000)\n",
    "    backend = Aer.get_backend('statevector_simulator')\n",
    "\n",
    "    #Create dummy parametrized circuit for HF calculation\n",
    "    theta = Parameter('a')\n",
    "    n = qubit_op.num_qubits\n",
    "    qc = QuantumCircuit(qubit_op.num_qubits)\n",
    "    qc.rz(theta*0,0)\n",
    "    ansatz = qc\n",
    "    ansatz.compose(init_state, front=True, inplace=True)\n",
    "\n",
    "    #Pass it through VQE\n",
    "    algorithm = VQE(ansatz,quantum_instance=backend)\n",
    "    result = algorithm.compute_minimum_eigenvalue(qubit_op).eigenvalue\n",
    "    # print('HF Energy is',np.real(result)+shift)\n",
    "\n",
    "    # Variational ansatz formation\n",
    "    var_form = UCC(num_particles=num_particles,num_spin_orbitals=num_spin_orbitals, excitations='sd', initial_state=init_state, qubit_converter=converter)\n",
    "    excitation_list = var_form._get_excitation_list()\n",
    "    # print('no of parameters',var_form.num_parameters)\n",
    "    # print('Excitation list is',excitation_list)\n",
    "    circuit = var_form.decompose() #.decompose().decompose()\n",
    "    # print(circuit)\n",
    "\n",
    "\n",
    "    backend = Aer.get_backend('statevector_simulator')\n",
    "\n",
    "    optimizer = COBYLA(maxiter=10000)\n",
    "\n",
    "    counts = list()\n",
    "    values = list()\n",
    "    \n",
    "    #VQE optimization\n",
    "    vqe1 = VQE(var_form, optimizer=optimizer, callback = store_intermediate_result, quantum_instance=backend)\n",
    "    vqe_result = vqe1.compute_minimum_eigenvalue(qubit_op)\n",
    "    E1 = np.real(vqe_result.eigenvalue)+shift\n",
    "    # print('VQE Optimized UCCSD Energy is',E1)\n",
    "\n",
    "    # NumPyMinimumEigensolver (FCI Energy)\n",
    "    solver = NumPyMinimumEigensolverFactory()\n",
    "    calc = GroundStateEigensolver(converter, solver)\n",
    "    numpy_result = calc.solve(es_problem)\n",
    "    exact_energy = np.real(numpy_result.eigenenergies[0]) + shift\n",
    "    \n",
    "    energy.append(exact_energy)\n",
    "\n",
    "# print(zip(h, exact_energy))\n",
    "plt.plot(h, energy)"
   ]
  },
  {
   "cell_type": "code",
   "execution_count": null,
   "id": "e3f4726d-e232-4173-a168-a779e74894c3",
   "metadata": {},
   "outputs": [],
   "source": []
  }
 ],
 "metadata": {
  "kernelspec": {
   "display_name": "Python 3 (ipykernel)",
   "language": "python",
   "name": "python3"
  },
  "language_info": {
   "codemirror_mode": {
    "name": "ipython",
    "version": 3
   },
   "file_extension": ".py",
   "mimetype": "text/x-python",
   "name": "python",
   "nbconvert_exporter": "python",
   "pygments_lexer": "ipython3",
   "version": "3.8.13"
  },
  "widgets": {
   "application/vnd.jupyter.widget-state+json": {
    "state": {
     "17232aaeeff64328b4121f91220be46a": {
      "model_module": "@jupyter-widgets/base",
      "model_module_version": "1.2.0",
      "model_name": "LayoutModel",
      "state": {
       "width": "190px"
      }
     },
     "18e49c9b3a5e47d5b1545fd1fdecd5ab": {
      "model_module": "@jupyter-widgets/base",
      "model_module_version": "1.2.0",
      "model_name": "LayoutModel",
      "state": {
       "margin": "0px 0px 0px 37px",
       "width": "600px"
      }
     },
     "1b153d7b14cd431abe1b88e0e0db330b": {
      "model_module": "@jupyter-widgets/base",
      "model_module_version": "1.2.0",
      "model_name": "LayoutModel",
      "state": {
       "width": "145px"
      }
     },
     "1c398835ae4b486c81013e958784a16d": {
      "model_module": "@jupyter-widgets/base",
      "model_module_version": "1.2.0",
      "model_name": "LayoutModel",
      "state": {}
     },
     "26a13ac55b464d0292ec3005b3c8f4f7": {
      "model_module": "@jupyter-widgets/controls",
      "model_module_version": "1.5.0",
      "model_name": "HTMLModel",
      "state": {
       "layout": "IPY_MODEL_17232aaeeff64328b4121f91220be46a",
       "style": "IPY_MODEL_620c4d5728dd4a1b9c0fa6ce9d078727",
       "value": "<h5>Job ID</h5>"
      }
     },
     "28fc916d047142ef988d4706c8429e5d": {
      "model_module": "@jupyter-widgets/controls",
      "model_module_version": "1.5.0",
      "model_name": "GridBoxModel",
      "state": {
       "children": [
        "IPY_MODEL_4d51c2bc81854a0486e0bbae867e0685"
       ],
       "layout": "IPY_MODEL_e2192e4a42764228b76ce00e05f8d4d2"
      }
     },
     "33192c0ec0094a259a83f74ab9db08e8": {
      "model_module": "@jupyter-widgets/controls",
      "model_module_version": "1.5.0",
      "model_name": "DescriptionStyleModel",
      "state": {
       "description_width": ""
      }
     },
     "480e8df4d76146fa9129b70774eae544": {
      "model_module": "@jupyter-widgets/base",
      "model_module_version": "1.2.0",
      "model_name": "LayoutModel",
      "state": {
       "width": "95px"
      }
     },
     "4a682a6a670a4d20b26df65cbeb033cb": {
      "model_module": "@jupyter-widgets/base",
      "model_module_version": "1.2.0",
      "model_name": "LayoutModel",
      "state": {
       "margin": "0px 0px 10px 0px"
      }
     },
     "4ad02a6d05174a2280214355a66b61c4": {
      "model_module": "@jupyter-widgets/controls",
      "model_module_version": "1.5.0",
      "model_name": "HTMLModel",
      "state": {
       "layout": "IPY_MODEL_1b153d7b14cd431abe1b88e0e0db330b",
       "style": "IPY_MODEL_6274c0adc75d4e38b0f385fa77e71243",
       "value": "<h5>Backend</h5>"
      }
     },
     "4d51c2bc81854a0486e0bbae867e0685": {
      "model_module": "@jupyter-widgets/controls",
      "model_module_version": "1.5.0",
      "model_name": "ButtonModel",
      "state": {
       "button_style": "primary",
       "description": "Clear",
       "layout": "IPY_MODEL_98975066d12d40b89685d4f2fdad5f0d",
       "style": "IPY_MODEL_a2838ec69c41417c8d6d5cf67648cd1b"
      }
     },
     "4fbeb8fcb11a4c149856e640473b4e16": {
      "model_module": "@jupyter-widgets/base",
      "model_module_version": "1.2.0",
      "model_name": "LayoutModel",
      "state": {
       "width": "70px"
      }
     },
     "620c4d5728dd4a1b9c0fa6ce9d078727": {
      "model_module": "@jupyter-widgets/controls",
      "model_module_version": "1.5.0",
      "model_name": "DescriptionStyleModel",
      "state": {
       "description_width": ""
      }
     },
     "6274c0adc75d4e38b0f385fa77e71243": {
      "model_module": "@jupyter-widgets/controls",
      "model_module_version": "1.5.0",
      "model_name": "DescriptionStyleModel",
      "state": {
       "description_width": ""
      }
     },
     "8282e86794fb48d7a35bc14f8ae0b402": {
      "model_module": "@jupyter-widgets/controls",
      "model_module_version": "1.5.0",
      "model_name": "DescriptionStyleModel",
      "state": {
       "description_width": ""
      }
     },
     "93ecb8199e74493182d2a17fffa58196": {
      "model_module": "@jupyter-widgets/controls",
      "model_module_version": "1.5.0",
      "model_name": "HTMLModel",
      "state": {
       "layout": "IPY_MODEL_4a682a6a670a4d20b26df65cbeb033cb",
       "style": "IPY_MODEL_8282e86794fb48d7a35bc14f8ae0b402",
       "value": "<p style='font-family: IBM Plex Sans, Arial, Helvetica, sans-serif; font-size: 20px; font-weight: medium;'>Circuit Properties</p>"
      }
     },
     "98975066d12d40b89685d4f2fdad5f0d": {
      "model_module": "@jupyter-widgets/base",
      "model_module_version": "1.2.0",
      "model_name": "LayoutModel",
      "state": {
       "grid_area": "right",
       "padding": "0px 0px 0px 0px",
       "width": "70px"
      }
     },
     "a0245e7f76f84c5bbe629284da144939": {
      "model_module": "@jupyter-widgets/controls",
      "model_module_version": "1.5.0",
      "model_name": "HBoxModel",
      "state": {
       "children": [
        "IPY_MODEL_26a13ac55b464d0292ec3005b3c8f4f7",
        "IPY_MODEL_4ad02a6d05174a2280214355a66b61c4",
        "IPY_MODEL_ee57d6cb335f4849ab672f403cc56aa5",
        "IPY_MODEL_c189ecce71e14fb6a2e91da71ca03462",
        "IPY_MODEL_fbb86210673f4cc4ba8e609899497831"
       ],
       "layout": "IPY_MODEL_18e49c9b3a5e47d5b1545fd1fdecd5ab"
      }
     },
     "a2838ec69c41417c8d6d5cf67648cd1b": {
      "model_module": "@jupyter-widgets/controls",
      "model_module_version": "1.5.0",
      "model_name": "ButtonStyleModel",
      "state": {}
     },
     "b7f396bfe7e0487fa239571b09d8b94f": {
      "model_module": "@jupyter-widgets/controls",
      "model_module_version": "1.5.0",
      "model_name": "DescriptionStyleModel",
      "state": {
       "description_width": ""
      }
     },
     "c189ecce71e14fb6a2e91da71ca03462": {
      "model_module": "@jupyter-widgets/controls",
      "model_module_version": "1.5.0",
      "model_name": "HTMLModel",
      "state": {
       "layout": "IPY_MODEL_4fbeb8fcb11a4c149856e640473b4e16",
       "style": "IPY_MODEL_33192c0ec0094a259a83f74ab9db08e8",
       "value": "<h5>Queue</h5>"
      }
     },
     "e2192e4a42764228b76ce00e05f8d4d2": {
      "model_module": "@jupyter-widgets/base",
      "model_module_version": "1.2.0",
      "model_name": "LayoutModel",
      "state": {
       "grid_template_areas": "\n                                       \". . . . right \"\n                                        ",
       "grid_template_columns": "20% 20% 20% 20% 20%",
       "width": "100%"
      }
     },
     "ee57d6cb335f4849ab672f403cc56aa5": {
      "model_module": "@jupyter-widgets/controls",
      "model_module_version": "1.5.0",
      "model_name": "HTMLModel",
      "state": {
       "layout": "IPY_MODEL_480e8df4d76146fa9129b70774eae544",
       "style": "IPY_MODEL_b7f396bfe7e0487fa239571b09d8b94f",
       "value": "<h5>Status</h5>"
      }
     },
     "ef8533398bb1431ead9d85fbece4adfb": {
      "model_module": "@jupyter-widgets/controls",
      "model_module_version": "1.5.0",
      "model_name": "DescriptionStyleModel",
      "state": {
       "description_width": ""
      }
     },
     "fbb86210673f4cc4ba8e609899497831": {
      "model_module": "@jupyter-widgets/controls",
      "model_module_version": "1.5.0",
      "model_name": "HTMLModel",
      "state": {
       "layout": "IPY_MODEL_1c398835ae4b486c81013e958784a16d",
       "style": "IPY_MODEL_ef8533398bb1431ead9d85fbece4adfb",
       "value": "<h5>Message</h5>"
      }
     }
    },
    "version_major": 2,
    "version_minor": 0
   }
  }
 },
 "nbformat": 4,
 "nbformat_minor": 5
}
