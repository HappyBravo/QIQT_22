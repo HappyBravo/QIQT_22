{
 "cells": [
  {
   "cell_type": "markdown",
   "id": "59989f27-0eef-427c-86c0-98ae7c5aeabf",
   "metadata": {},
   "source": [
    "Importing Libraries"
   ]
  },
  {
   "cell_type": "code",
   "execution_count": 14,
   "id": "e39c692b-b928-4fb5-b623-16f4e6800759",
   "metadata": {},
   "outputs": [],
   "source": [
    "import qiskit as qt\n",
    "from qiskit.visualization import plot_histogram"
   ]
  },
  {
   "cell_type": "markdown",
   "id": "c81809b6-a298-4dad-945b-04e699350609",
   "metadata": {},
   "source": [
    "Creating the Quantum Circuit"
   ]
  },
  {
   "cell_type": "code",
   "execution_count": 15,
   "id": "2e00fdce-607f-42da-96b8-8030bb3f4ba9",
   "metadata": {},
   "outputs": [
    {
     "data": {
      "image/png": "[encoded data removed]",
      "text/plain": [
       "<Figure size 598.479x325.08 with 1 Axes>"
      ]
     },
     "execution_count": 15,
     "metadata": {},
     "output_type": "execute_result"
    }
   ],
   "source": [
    "qc = qt.QuantumCircuit(4)\n",
    "qc.x(0)\n",
    "qc.x(2)\n",
    "qc.h(1)\n",
    "qc.cx(1,3)\n",
    "qc.cx(3,2)\n",
    "qc.cx(1, 0)\n",
    "\n",
    "qc.measure_all()\n",
    "qc.draw('mpl')"
   ]
  },
  {
   "cell_type": "markdown",
   "id": "ec8c894d-6196-463d-b50f-3d794e6fb4d5",
   "metadata": {},
   "source": [
    "Running the circuit"
   ]
  },
  {
   "cell_type": "code",
   "execution_count": 16,
   "id": "07e0c22d-cdba-40c0-88c0-d9b97aa16cf0",
   "metadata": {},
   "outputs": [
    {
     "data": {
      "image/png": "[encoded data removed]",
      "text/plain": [
       "<Figure size 504x360 with 1 Axes>"
      ]
     },
     "execution_count": 16,
     "metadata": {},
     "output_type": "execute_result"
    }
   ],
   "source": [
    "backend = qt.Aer.get_backend('qasm_simulator')\n",
    "mapped_circuit = qt.transpile(qc, backend=backend)\n",
    "mapped_circuit.draw('mpl')\n",
    "qobj = qt.assemble(mapped_circuit, backend=backend, shots=1024)\n",
    "result = backend.run(qobj).result()\n",
    "plot_histogram(result.get_counts())"
   ]
  }
 ],
 "metadata": {
  "kernelspec": {
   "display_name": "Python 3 (ipykernel)",
   "language": "python",
   "name": "python3"
  },
  "language_info": {
   "codemirror_mode": {
    "name": "ipython",
    "version": 3
   },
   "file_extension": ".py",
   "mimetype": "text/x-python",
   "name": "python",
   "nbconvert_exporter": "python",
   "pygments_lexer": "ipython3",
   "version": "3.8.13"
  },
  "widgets": {
   "application/vnd.jupyter.widget-state+json": {
    "state": {
     "08ed54073bb74d46aad6e8385bb18eb7": {
      "model_module": "@jupyter-widgets/controls",
      "model_module_version": "1.5.0",
      "model_name": "DescriptionStyleModel",
      "state": {
       "description_width": ""
      }
     },
     "0de093637c59457aa408577a596b4a8e": {
      "model_module": "@jupyter-widgets/base",
      "model_module_version": "1.2.0",
      "model_name": "LayoutModel",
      "state": {
       "grid_template_areas": "\n                                       \". . . . right \"\n                                        ",
       "grid_template_columns": "20% 20% 20% 20% 20%",
       "width": "100%"
      }
     },
     "161d927196064dc3a59122b470269f71": {
      "model_module": "@jupyter-widgets/controls",
      "model_module_version": "1.5.0",
      "model_name": "DescriptionStyleModel",
      "state": {
       "description_width": ""
      }
     },
     "1962915827ed40a68d03757c17a500ae": {
      "model_module": "@jupyter-widgets/controls",
      "model_module_version": "1.5.0",
      "model_name": "HTMLModel",
      "state": {
       "layout": "IPY_MODEL_52d52b33d533455cb5eff7705a00c018",
       "style": "IPY_MODEL_d174983e20ce4620b950ebb58c11a25c",
       "value": "<h5>Backend</h5>"
      }
     },
     "1f6160394c634502b0985ad9b2fb8977": {
      "model_module": "@jupyter-widgets/controls",
      "model_module_version": "1.5.0",
      "model_name": "DescriptionStyleModel",
      "state": {
       "description_width": ""
      }
     },
     "22b93ce7f5d14f6e87e8b0bff0e095a1": {
      "model_module": "@jupyter-widgets/controls",
      "model_module_version": "1.5.0",
      "model_name": "HTMLModel",
      "state": {
       "layout": "IPY_MODEL_f69923c7aa394a1389e592ca11011991",
       "style": "IPY_MODEL_08ed54073bb74d46aad6e8385bb18eb7",
       "value": "<p style='font-family: IBM Plex Sans, Arial, Helvetica, sans-serif; font-size: 20px; font-weight: medium;'>Circuit Properties</p>"
      }
     },
     "38b3e92e104440b1ba12011b6368069e": {
      "model_module": "@jupyter-widgets/controls",
      "model_module_version": "1.5.0",
      "model_name": "HTMLModel",
      "state": {
       "layout": "IPY_MODEL_40a473891d584a83967c3378e0376c00",
       "style": "IPY_MODEL_161d927196064dc3a59122b470269f71",
       "value": "<h5>Queue</h5>"
      }
     },
     "3ede6537ee194a9c8375087373aa7390": {
      "model_module": "@jupyter-widgets/controls",
      "model_module_version": "1.5.0",
      "model_name": "HTMLModel",
      "state": {
       "layout": "IPY_MODEL_631f772516aa43a2ba4d41bd509b7e0a",
       "style": "IPY_MODEL_6110c42913af4ff7a368fc6eab1635dd",
       "value": "<h5>Job ID</h5>"
      }
     },
     "40a473891d584a83967c3378e0376c00": {
      "model_module": "@jupyter-widgets/base",
      "model_module_version": "1.2.0",
      "model_name": "LayoutModel",
      "state": {
       "width": "70px"
      }
     },
     "4cd6b923154546fdbb6ec84fa1e31016": {
      "model_module": "@jupyter-widgets/controls",
      "model_module_version": "1.5.0",
      "model_name": "HTMLModel",
      "state": {
       "layout": "IPY_MODEL_f9db9830e5e3447bb9edecca56acd3a2",
       "style": "IPY_MODEL_1f6160394c634502b0985ad9b2fb8977",
       "value": "<h5>Status</h5>"
      }
     },
     "52d52b33d533455cb5eff7705a00c018": {
      "model_module": "@jupyter-widgets/base",
      "model_module_version": "1.2.0",
      "model_name": "LayoutModel",
      "state": {
       "width": "145px"
      }
     },
     "6110c42913af4ff7a368fc6eab1635dd": {
      "model_module": "@jupyter-widgets/controls",
      "model_module_version": "1.5.0",
      "model_name": "DescriptionStyleModel",
      "state": {
       "description_width": ""
      }
     },
     "631f772516aa43a2ba4d41bd509b7e0a": {
      "model_module": "@jupyter-widgets/base",
      "model_module_version": "1.2.0",
      "model_name": "LayoutModel",
      "state": {
       "width": "190px"
      }
     },
     "8200f9d400864521a07477819177909e": {
      "model_module": "@jupyter-widgets/controls",
      "model_module_version": "1.5.0",
      "model_name": "ButtonModel",
      "state": {
       "button_style": "primary",
       "description": "Clear",
       "layout": "IPY_MODEL_de237fe8590b4944a580d1b35145eb70",
       "style": "IPY_MODEL_9f4c1ca27f87475a8093e976b1010542"
      }
     },
     "8572c7ab560147b0943d9ee408f05051": {
      "model_module": "@jupyter-widgets/base",
      "model_module_version": "1.2.0",
      "model_name": "LayoutModel",
      "state": {
       "margin": "0px 0px 0px 37px",
       "width": "600px"
      }
     },
     "9f4c1ca27f87475a8093e976b1010542": {
      "model_module": "@jupyter-widgets/controls",
      "model_module_version": "1.5.0",
      "model_name": "ButtonStyleModel",
      "state": {}
     },
     "a204231a52cb43689e7e64239e050c2c": {
      "model_module": "@jupyter-widgets/controls",
      "model_module_version": "1.5.0",
      "model_name": "HBoxModel",
      "state": {
       "children": [
        "IPY_MODEL_3ede6537ee194a9c8375087373aa7390",
        "IPY_MODEL_1962915827ed40a68d03757c17a500ae",
        "IPY_MODEL_4cd6b923154546fdbb6ec84fa1e31016",
        "IPY_MODEL_38b3e92e104440b1ba12011b6368069e",
        "IPY_MODEL_babf4355b7954a868ddfc406e310ab23"
       ],
       "layout": "IPY_MODEL_8572c7ab560147b0943d9ee408f05051"
      }
     },
     "babf4355b7954a868ddfc406e310ab23": {
      "model_module": "@jupyter-widgets/controls",
      "model_module_version": "1.5.0",
      "model_name": "HTMLModel",
      "state": {
       "layout": "IPY_MODEL_c97612005abb4ba2b589101b3de28da3",
       "style": "IPY_MODEL_e915a2d4b02e4f548ed8b21cb0d51217",
       "value": "<h5>Message</h5>"
      }
     },
     "c97612005abb4ba2b589101b3de28da3": {
      "model_module": "@jupyter-widgets/base",
      "model_module_version": "1.2.0",
      "model_name": "LayoutModel",
      "state": {}
     },
     "d06d3c60765942dfa46802a9c59ca21b": {
      "model_module": "@jupyter-widgets/controls",
      "model_module_version": "1.5.0",
      "model_name": "GridBoxModel",
      "state": {
       "children": [
        "IPY_MODEL_8200f9d400864521a07477819177909e"
       ],
       "layout": "IPY_MODEL_0de093637c59457aa408577a596b4a8e"
      }
     },
     "d174983e20ce4620b950ebb58c11a25c": {
      "model_module": "@jupyter-widgets/controls",
      "model_module_version": "1.5.0",
      "model_name": "DescriptionStyleModel",
      "state": {
       "description_width": ""
      }
     },
     "de237fe8590b4944a580d1b35145eb70": {
      "model_module": "@jupyter-widgets/base",
      "model_module_version": "1.2.0",
      "model_name": "LayoutModel",
      "state": {
       "grid_area": "right",
       "padding": "0px 0px 0px 0px",
       "width": "70px"
      }
     },
     "e915a2d4b02e4f548ed8b21cb0d51217": {
      "model_module": "@jupyter-widgets/controls",
      "model_module_version": "1.5.0",
      "model_name": "DescriptionStyleModel",
      "state": {
       "description_width": ""
      }
     },
     "f69923c7aa394a1389e592ca11011991": {
      "model_module": "@jupyter-widgets/base",
      "model_module_version": "1.2.0",
      "model_name": "LayoutModel",
      "state": {
       "margin": "0px 0px 10px 0px"
      }
     },
     "f9db9830e5e3447bb9edecca56acd3a2": {
      "model_module": "@jupyter-widgets/base",
      "model_module_version": "1.2.0",
      "model_name": "LayoutModel",
      "state": {
       "width": "95px"
      }
     }
    },
    "version_major": 2,
    "version_minor": 0
   }
  }
 },
 "nbformat": 4,
 "nbformat_minor": 5
}
