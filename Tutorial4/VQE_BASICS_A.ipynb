{
 "cells": [
  {
   "cell_type": "markdown",
   "id": "3210011a-8513-436d-bac0-67ee0e197fcd",
   "metadata": {},
   "source": [
    "Importing Important Files"
   ]
  },
  {
   "cell_type": "code",
   "execution_count": 17,
   "id": "9ef18236-b115-441f-87b6-5fa3f33a7621",
   "metadata": {},
   "outputs": [],
   "source": [
    "import qiskit as qt\n",
    "import numpy as np\n",
    "from qiskit_nature.drivers.second_quantization import PySCFDriver\n",
    "from qiskit import Aer\n",
    "from qiskit.opflow import PauliExpectation, CircuitSampler, StateFn, AerPauliExpectation, CircuitStateFn, CircuitOp, MatrixExpectation\n",
    "from qiskit_nature.circuit.library import HartreeFock\n",
    "from qiskit_nature.problems.second_quantization.electronic import ElectronicStructureProblem\n",
    "from qiskit_nature.mappers.second_quantization import JordanWignerMapper\n",
    "from qiskit_nature.converters.second_quantization import QubitConverter\n",
    "import matplotlib.pyplot as plt"
   ]
  },
  {
   "cell_type": "markdown",
   "id": "5e4f85b1-d6b8-4a92-a470-7c8e6eac88de",
   "metadata": {},
   "source": [
    "Creating a function that would measure the expectation $<\\Psi|\\hat{O}|\\Psi>$"
   ]
  },
  {
   "cell_type": "code",
   "execution_count": 18,
   "id": "a148973e-afc5-4b95-bb78-9fc08c4baf6a",
   "metadata": {},
   "outputs": [],
   "source": [
    "\n",
    "def expectation(operator, state):\n",
    "    backend_i = Aer.get_backend('statevector_simulator')\n",
    "    psi = CircuitStateFn(state)\n",
    "    measurable_expression = StateFn(operator, is_measurement=True).compose(psi)\n",
    "    expectation_i = PauliExpectation().convert(measurable_expression)\n",
    "    sampler = CircuitSampler(backend_i).convert(expectation_i)\n",
    "    electronic_energy = np.real(sampler.eval())\n",
    "    return electronic_energy"
   ]
  },
  {
   "cell_type": "markdown",
   "id": "e79114fe-740b-4e25-a9ab-e51070be789e",
   "metadata": {},
   "source": [
    "Obtaining the molecular Hamiltonian in second quantised notation using PySCF Driver"
   ]
  },
  {
   "cell_type": "code",
   "execution_count": 19,
   "id": "d498dacb-0f59-45e4-a532-a160e3932559",
   "metadata": {},
   "outputs": [],
   "source": [
    "coord = 'H 0.0 0.0 0.0; H 0.0 0.0 0.735'\n",
    "driver = PySCFDriver(atom=coord, charge=0, spin=0, basis='sto3g')\n",
    "es_problem = ElectronicStructureProblem(driver)\n",
    "second_q_op = es_problem.second_q_ops()"
   ]
  },
  {
   "cell_type": "markdown",
   "id": "4b192988-26c8-408f-bb6a-0eeb2ce76aa4",
   "metadata": {},
   "source": [
    "Converting the Hamiltonian in terms of Pauli Gates using Jordan-Wigner Mapping"
   ]
  },
  {
   "cell_type": "code",
   "execution_count": 20,
   "id": "9c7ec97e-3be3-4988-92d6-ec574d3e28dc",
   "metadata": {},
   "outputs": [],
   "source": [
    "mapper = JordanWignerMapper()\n",
    "converter = QubitConverter(mapper=mapper, two_qubit_reduction=False)\n",
    "qubit_op = converter.convert(second_q_op['ElectronicEnergy'])"
   ]
  },
  {
   "cell_type": "markdown",
   "id": "4fcfae93-99da-4d81-aa10-8cca0233dada",
   "metadata": {},
   "source": [
    "Obtaining some properties of the molecule such as number of electrons, number of spin-orbitals in a given basis"
   ]
  },
  {
   "cell_type": "code",
   "execution_count": 21,
   "id": "b221f722-9e32-4f61-b3c4-bf568fed58f4",
   "metadata": {},
   "outputs": [
    {
     "name": "stdout",
     "output_type": "stream",
     "text": [
      "Number Of Particles:  (1, 1)\n",
      "Number of Spin Orbitals:  4\n",
      "Nuclear Repulsion Energy:  0.7199689944489797\n"
     ]
    }
   ],
   "source": [
    "es_particle_number = es_problem.grouped_property_transformed.get_property('ParticleNumber')\n",
    "num_particles = (es_particle_number.num_alpha, es_particle_number.num_beta)\n",
    "num_spin_orbitals = es_particle_number.num_spin_orbitals\n",
    "es_energy = es_problem.grouped_property_transformed.get_property('ElectronicEnergy')\n",
    "nuclear_repulsion_energy = es_energy.nuclear_repulsion_energy\n",
    "print('Number Of Particles: ', num_particles)\n",
    "print('Number of Spin Orbitals: ', num_spin_orbitals)\n",
    "print('Nuclear Repulsion Energy: ', nuclear_repulsion_energy)"
   ]
  },
  {
   "cell_type": "markdown",
   "id": "82fb82b9-7fae-47bc-a9f2-e64e41f8e664",
   "metadata": {},
   "source": [
    "Generating The Hartree Fock state $|\\Phi_o>$"
   ]
  },
  {
   "cell_type": "code",
   "execution_count": 22,
   "id": "2b4882bc-8fab-4932-9047-5538e8762806",
   "metadata": {},
   "outputs": [],
   "source": [
    "init_state = HartreeFock(num_spin_orbitals, num_particles, converter)"
   ]
  },
  {
   "cell_type": "markdown",
   "id": "8de652a7-1047-48e5-a6e6-21bc3e6a5caa",
   "metadata": {},
   "source": [
    "Obtaining the Hartree Fock energy SCF energy $<\\Phi_o|\\hat{H}|\\Phi_o>$"
   ]
  },
  {
   "cell_type": "code",
   "execution_count": 23,
   "id": "ea11cdae-1afd-49c7-bc5e-2017e118e3f1",
   "metadata": {},
   "outputs": [
    {
     "name": "stdout",
     "output_type": "stream",
     "text": [
      "-1.1169989967540035\n"
     ]
    }
   ],
   "source": [
    "electronic_energy = expectation(qubit_op, init_state)\n",
    "total_energy = electronic_energy+nuclear_repulsion_energy\n",
    "print(total_energy)"
   ]
  },
  {
   "cell_type": "code",
   "execution_count": null,
   "id": "7756a064-10e0-4eec-8746-d5c974cd0508",
   "metadata": {},
   "outputs": [],
   "source": []
  },
  {
   "cell_type": "code",
   "execution_count": null,
   "id": "fced9987-0f3a-47c1-ad70-d042b49e9b7b",
   "metadata": {},
   "outputs": [],
   "source": []
  }
 ],
 "metadata": {
  "kernelspec": {
   "display_name": "Python 3 (ipykernel)",
   "language": "python",
   "name": "python3"
  },
  "language_info": {
   "codemirror_mode": {
    "name": "ipython",
    "version": 3
   },
   "file_extension": ".py",
   "mimetype": "text/x-python",
   "name": "python",
   "nbconvert_exporter": "python",
   "pygments_lexer": "ipython3",
   "version": "3.8.13"
  },
  "widgets": {
   "application/vnd.jupyter.widget-state+json": {
    "state": {
     "0384e9596d5b4a78a77384536118f1a9": {
      "model_module": "@jupyter-widgets/controls",
      "model_module_version": "1.5.0",
      "model_name": "HTMLModel",
      "state": {
       "layout": "IPY_MODEL_a69c60cf93f3451fa0ae0edb0ccc7ec4",
       "style": "IPY_MODEL_14f18e18e05843baa0971dd7b2cf39b7",
       "value": "<p style='font-family: IBM Plex Sans, Arial, Helvetica, sans-serif; font-size: 20px; font-weight: medium;'>Circuit Properties</p>"
      }
     },
     "14f18e18e05843baa0971dd7b2cf39b7": {
      "model_module": "@jupyter-widgets/controls",
      "model_module_version": "1.5.0",
      "model_name": "DescriptionStyleModel",
      "state": {
       "description_width": ""
      }
     },
     "20badd994ee849268592e0e5537ad980": {
      "model_module": "@jupyter-widgets/base",
      "model_module_version": "1.2.0",
      "model_name": "LayoutModel",
      "state": {
       "margin": "0px 0px 0px 37px",
       "width": "600px"
      }
     },
     "26d1ad00da5d43369c04982d9d7422e4": {
      "model_module": "@jupyter-widgets/controls",
      "model_module_version": "1.5.0",
      "model_name": "ButtonStyleModel",
      "state": {}
     },
     "39ba2e8d55e545a997fddb39a45020db": {
      "model_module": "@jupyter-widgets/controls",
      "model_module_version": "1.5.0",
      "model_name": "ButtonModel",
      "state": {
       "button_style": "primary",
       "description": "Clear",
       "layout": "IPY_MODEL_8624c8deab59431f8db8fbf0f1dc09c1",
       "style": "IPY_MODEL_26d1ad00da5d43369c04982d9d7422e4"
      }
     },
     "41278eb2ea674ab980940e601fb53a2e": {
      "model_module": "@jupyter-widgets/controls",
      "model_module_version": "1.5.0",
      "model_name": "GridBoxModel",
      "state": {
       "children": [
        "IPY_MODEL_39ba2e8d55e545a997fddb39a45020db"
       ],
       "layout": "IPY_MODEL_4f952e9fdf1048478803e992c1c66b6f"
      }
     },
     "4f952e9fdf1048478803e992c1c66b6f": {
      "model_module": "@jupyter-widgets/base",
      "model_module_version": "1.2.0",
      "model_name": "LayoutModel",
      "state": {
       "grid_template_areas": "\n                                       \". . . . right \"\n                                        ",
       "grid_template_columns": "20% 20% 20% 20% 20%",
       "width": "100%"
      }
     },
     "532950e6957647f0b5a2ddb092f01599": {
      "model_module": "@jupyter-widgets/controls",
      "model_module_version": "1.5.0",
      "model_name": "DescriptionStyleModel",
      "state": {
       "description_width": ""
      }
     },
     "607812e36b344d6b8f5427084981fdf6": {
      "model_module": "@jupyter-widgets/base",
      "model_module_version": "1.2.0",
      "model_name": "LayoutModel",
      "state": {
       "width": "95px"
      }
     },
     "65103cd7f1e6492f9f601be02e447d46": {
      "model_module": "@jupyter-widgets/controls",
      "model_module_version": "1.5.0",
      "model_name": "HTMLModel",
      "state": {
       "layout": "IPY_MODEL_607812e36b344d6b8f5427084981fdf6",
       "style": "IPY_MODEL_532950e6957647f0b5a2ddb092f01599",
       "value": "<h5>Status</h5>"
      }
     },
     "66df3836bd934253bce53a8a24082cc3": {
      "model_module": "@jupyter-widgets/base",
      "model_module_version": "1.2.0",
      "model_name": "LayoutModel",
      "state": {
       "width": "190px"
      }
     },
     "6fb04235fe1e4adf9a8f383ca92b6dfc": {
      "model_module": "@jupyter-widgets/controls",
      "model_module_version": "1.5.0",
      "model_name": "HTMLModel",
      "state": {
       "layout": "IPY_MODEL_9541da64ab3a47709848fdda36cb7c39",
       "style": "IPY_MODEL_7f792e96913943baa201ee3f949cd3e2",
       "value": "<h5>Message</h5>"
      }
     },
     "7f792e96913943baa201ee3f949cd3e2": {
      "model_module": "@jupyter-widgets/controls",
      "model_module_version": "1.5.0",
      "model_name": "DescriptionStyleModel",
      "state": {
       "description_width": ""
      }
     },
     "82f2ec29a3a84417ae18e18e83b49254": {
      "model_module": "@jupyter-widgets/base",
      "model_module_version": "1.2.0",
      "model_name": "LayoutModel",
      "state": {
       "width": "145px"
      }
     },
     "8624c8deab59431f8db8fbf0f1dc09c1": {
      "model_module": "@jupyter-widgets/base",
      "model_module_version": "1.2.0",
      "model_name": "LayoutModel",
      "state": {
       "grid_area": "right",
       "padding": "0px 0px 0px 0px",
       "width": "70px"
      }
     },
     "9541da64ab3a47709848fdda36cb7c39": {
      "model_module": "@jupyter-widgets/base",
      "model_module_version": "1.2.0",
      "model_name": "LayoutModel",
      "state": {}
     },
     "a23bdb3e49f44f1aac7cc532b3880c36": {
      "model_module": "@jupyter-widgets/base",
      "model_module_version": "1.2.0",
      "model_name": "LayoutModel",
      "state": {
       "width": "70px"
      }
     },
     "a69c60cf93f3451fa0ae0edb0ccc7ec4": {
      "model_module": "@jupyter-widgets/base",
      "model_module_version": "1.2.0",
      "model_name": "LayoutModel",
      "state": {
       "margin": "0px 0px 10px 0px"
      }
     },
     "b1aa67b75ec949c880cbd6e54cb16704": {
      "model_module": "@jupyter-widgets/controls",
      "model_module_version": "1.5.0",
      "model_name": "DescriptionStyleModel",
      "state": {
       "description_width": ""
      }
     },
     "bc61053a6b384d219650feb37f98178e": {
      "model_module": "@jupyter-widgets/controls",
      "model_module_version": "1.5.0",
      "model_name": "HTMLModel",
      "state": {
       "layout": "IPY_MODEL_82f2ec29a3a84417ae18e18e83b49254",
       "style": "IPY_MODEL_eb52f4bd4b86495f846b0a16f2a59228",
       "value": "<h5>Backend</h5>"
      }
     },
     "cbb09809b3df4a39b765c8de8ec492e9": {
      "model_module": "@jupyter-widgets/controls",
      "model_module_version": "1.5.0",
      "model_name": "DescriptionStyleModel",
      "state": {
       "description_width": ""
      }
     },
     "cc7c0048d1da434f9689e014465afb28": {
      "model_module": "@jupyter-widgets/controls",
      "model_module_version": "1.5.0",
      "model_name": "HTMLModel",
      "state": {
       "layout": "IPY_MODEL_a23bdb3e49f44f1aac7cc532b3880c36",
       "style": "IPY_MODEL_cbb09809b3df4a39b765c8de8ec492e9",
       "value": "<h5>Queue</h5>"
      }
     },
     "eb52f4bd4b86495f846b0a16f2a59228": {
      "model_module": "@jupyter-widgets/controls",
      "model_module_version": "1.5.0",
      "model_name": "DescriptionStyleModel",
      "state": {
       "description_width": ""
      }
     },
     "efb04923431c410fb8952527ac298938": {
      "model_module": "@jupyter-widgets/controls",
      "model_module_version": "1.5.0",
      "model_name": "HBoxModel",
      "state": {
       "children": [
        "IPY_MODEL_fd7a98f33ebc410db2a901844d7380ae",
        "IPY_MODEL_bc61053a6b384d219650feb37f98178e",
        "IPY_MODEL_65103cd7f1e6492f9f601be02e447d46",
        "IPY_MODEL_cc7c0048d1da434f9689e014465afb28",
        "IPY_MODEL_6fb04235fe1e4adf9a8f383ca92b6dfc"
       ],
       "layout": "IPY_MODEL_20badd994ee849268592e0e5537ad980"
      }
     },
     "fd7a98f33ebc410db2a901844d7380ae": {
      "model_module": "@jupyter-widgets/controls",
      "model_module_version": "1.5.0",
      "model_name": "HTMLModel",
      "state": {
       "layout": "IPY_MODEL_66df3836bd934253bce53a8a24082cc3",
       "style": "IPY_MODEL_b1aa67b75ec949c880cbd6e54cb16704",
       "value": "<h5>Job ID</h5>"
      }
     }
    },
    "version_major": 2,
    "version_minor": 0
   }
  }
 },
 "nbformat": 4,
 "nbformat_minor": 5
}
